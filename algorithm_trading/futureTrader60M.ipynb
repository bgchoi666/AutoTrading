{
 "cells": [
  {
   "cell_type": "code",
   "execution_count": null,
   "metadata": {
    "collapsed": true
   },
   "outputs": [],
   "source": [
    "import tensorflow as tf\n",
    "from tensorflow import keras\n",
    "\n",
    "import ensemble_test as et\n",
    "\n",
    "import pandas as pd\n",
    "import numpy as np"
   ]
  },
  {
   "cell_type": "code",
   "execution_count": null,
   "metadata": {},
   "outputs": [],
   "source": [
    "et.start_time = '2021/09/01/09:00'\n",
    "et.end_time = '2021/09/30/14:00'\n",
    "\n",
    "et.last_train = '2021-08'"
   ]
  },
  {
   "cell_type": "code",
   "execution_count": null,
   "metadata": {},
   "outputs": [],
   "source": [
    "et.selected_num = 3\n",
    "et.weights = [1 for i in range(et.selected_num)]\n",
    "#et.weights = [0.34666667, 0.32833333, 0.325]\n",
    "\n",
    "et.selected_checkpoint_path = [\"\", et.checkpoint_path[3], et.checkpoint_path[11], et.checkpoint_path[14]]"
   ]
  },
  {
   "cell_type": "code",
   "execution_count": null,
   "metadata": {},
   "outputs": [],
   "source": [
    "print(\"preprocessing start......\")\n",
    "et.preprocessing()\n",
    "print(\"preprocessing end........\")\n",
    "\n",
    "# type=0 --> 0: 중립 1:고점 2:저점,  type=1 --> n일 후 0:하락  1: 상승\n",
    "r = et.predict()\n",
    "print(\"수익률: \" + str(r))"
   ]
  }
 ],
 "metadata": {
  "kernelspec": {
   "display_name": "Python 2",
   "language": "python",
   "name": "python2"
  },
  "language_info": {
   "codemirror_mode": {
    "name": "ipython",
    "version": 2
   },
   "file_extension": ".py",
   "mimetype": "text/x-python",
   "name": "python",
   "nbconvert_exporter": "python",
   "pygments_lexer": "ipython2",
   "version": "2.7.6"
  }
 },
 "nbformat": 4,
 "nbformat_minor": 0
}
